{
 "cells": [
  {
   "cell_type": "markdown",
   "id": "1cf04251",
   "metadata": {},
   "source": [
    "## Hackathon CDIA PUC"
   ]
  },
  {
   "cell_type": "markdown",
   "id": "9e0b906b",
   "metadata": {},
   "source": [
    "## O que é um Hackathon?"
   ]
  },
  {
   "cell_type": "markdown",
   "id": "641deee4",
   "metadata": {},
   "source": [
    "o Hackathon é um evento que reúne programadores, designers e outros profissionais ligados ao desenvolvimento de software para uma maratona de programação, cujo objetivo é desenvolver um software ou solução tecnológica que atenda a um fim específico."
   ]
  },
  {
   "cell_type": "markdown",
   "id": "e9b2c5d9",
   "metadata": {},
   "source": [
    "## Como funciona o Hackathon de CDIA da PUC?"
   ]
  },
  {
   "cell_type": "markdown",
   "id": "42f215fb",
   "metadata": {},
   "source": [
    "Iremos desenvolver um modelo de machine learning para predizer algum dado, no mesmo estilo de uma competição do Kaggle.\n",
    "\n",
    "Poderemos ter que resolver um problema de regressão, classificação, etc. Qualquer problema que possamos treinar um modelo e usar um target como métrica de performance"
   ]
  },
  {
   "cell_type": "markdown",
   "id": "16e657d6",
   "metadata": {},
   "source": [
    "## Diagrama Funcionamento Hackathon\n",
    "<img src=\"img/Diagrama Hackathon.png\" alt=\"Diagrama Dinâmica Hackatho\" />"
   ]
  },
  {
   "cell_type": "markdown",
   "id": "afcb803c",
   "metadata": {},
   "source": [
    "# Dinâmica do Hackathon"
   ]
  },
  {
   "cell_type": "markdown",
   "id": "4a8dbf74",
   "metadata": {},
   "source": [
    "- um dataset mãe será dividido em treino e teste\n",
    "\n",
    "O dataset treino com features e target será enviado aos alunos junto com o dataset de teste, mas esse somente com as features.\n",
    "\n",
    "Os alunos treinaram o seus modelos no dataset de treino e usarão então seu modelo treinado para predizer os targets do dataset de teste.\n",
    "\n",
    "Os alunos vão então submeter essa predição para o professor como um arquivo csv junto com o seu caderno.\n",
    "\n",
    "O professor juntará então todas as submissões e avaliará a performance delas. Será divulgado um ranking final com os vencedores (as predições que melhor performaram). Ao final os cadernos serão compartilhados e os alunos e o professor terão a oportunidade de discutir quais abordagens derão mais certo ou não para a solução do problema.\n",
    "\n",
    "- precisa avaliar problema de classificação e regressão\n",
    "\n",
    "- gerar caderno exemplo de participação no hackathon\n",
    "\n",
    "- alunos submetem atividade e professor ao final avalia todas as submissoes. Os cadernos de todas as pessoas devem ser públicos no final"
   ]
  },
  {
   "cell_type": "markdown",
   "id": "3423d6ed",
   "metadata": {},
   "source": [
    "- alunos submetem atividade e professor ao final avalia todas as submissoes. Os cadernos de todas as pessoas devem ser públicos no final"
   ]
  },
  {
   "cell_type": "markdown",
   "id": "7f59013e",
   "metadata": {},
   "source": [
    "**Vantagens da dinâmica**:\n",
    "- alunos aprendem o quaõ importante é fazer um modelo que realmente performa bem em dados nunca antes visto\n",
    "- os alunos ao verificar quais cadernos performaram melhor podem trocar conhecimento sobre as melhores técnicas e práticas"
   ]
  },
  {
   "cell_type": "markdown",
   "id": "73372774",
   "metadata": {},
   "source": [
    "## Professor"
   ]
  },
  {
   "cell_type": "code",
   "execution_count": 1,
   "id": "916f2cae",
   "metadata": {},
   "outputs": [],
   "source": [
    "import pandas as pd\n",
    "from sklearn.model_selection import train_test_split"
   ]
  },
  {
   "cell_type": "code",
   "execution_count": 2,
   "id": "fe8c5794",
   "metadata": {},
   "outputs": [
    {
     "data": {
      "text/html": [
       "<div>\n",
       "<style scoped>\n",
       "    .dataframe tbody tr th:only-of-type {\n",
       "        vertical-align: middle;\n",
       "    }\n",
       "\n",
       "    .dataframe tbody tr th {\n",
       "        vertical-align: top;\n",
       "    }\n",
       "\n",
       "    .dataframe thead th {\n",
       "        text-align: right;\n",
       "    }\n",
       "</style>\n",
       "<table border=\"1\" class=\"dataframe\">\n",
       "  <thead>\n",
       "    <tr style=\"text-align: right;\">\n",
       "      <th></th>\n",
       "      <th>sepal length</th>\n",
       "      <th>sepal width</th>\n",
       "      <th>petal length</th>\n",
       "      <th>petal width</th>\n",
       "      <th>class</th>\n",
       "    </tr>\n",
       "  </thead>\n",
       "  <tbody>\n",
       "    <tr>\n",
       "      <th>0</th>\n",
       "      <td>5.1</td>\n",
       "      <td>3.5</td>\n",
       "      <td>1.4</td>\n",
       "      <td>0.2</td>\n",
       "      <td>Iris-setosa</td>\n",
       "    </tr>\n",
       "    <tr>\n",
       "      <th>1</th>\n",
       "      <td>4.9</td>\n",
       "      <td>3.0</td>\n",
       "      <td>1.4</td>\n",
       "      <td>0.2</td>\n",
       "      <td>Iris-setosa</td>\n",
       "    </tr>\n",
       "    <tr>\n",
       "      <th>2</th>\n",
       "      <td>4.7</td>\n",
       "      <td>3.2</td>\n",
       "      <td>1.3</td>\n",
       "      <td>0.2</td>\n",
       "      <td>Iris-setosa</td>\n",
       "    </tr>\n",
       "    <tr>\n",
       "      <th>3</th>\n",
       "      <td>4.6</td>\n",
       "      <td>3.1</td>\n",
       "      <td>1.5</td>\n",
       "      <td>0.2</td>\n",
       "      <td>Iris-setosa</td>\n",
       "    </tr>\n",
       "    <tr>\n",
       "      <th>4</th>\n",
       "      <td>5.0</td>\n",
       "      <td>3.6</td>\n",
       "      <td>1.4</td>\n",
       "      <td>0.2</td>\n",
       "      <td>Iris-setosa</td>\n",
       "    </tr>\n",
       "  </tbody>\n",
       "</table>\n",
       "</div>"
      ],
      "text/plain": [
       "   sepal length  sepal width  petal length  petal width        class\n",
       "0           5.1          3.5           1.4          0.2  Iris-setosa\n",
       "1           4.9          3.0           1.4          0.2  Iris-setosa\n",
       "2           4.7          3.2           1.3          0.2  Iris-setosa\n",
       "3           4.6          3.1           1.5          0.2  Iris-setosa\n",
       "4           5.0          3.6           1.4          0.2  Iris-setosa"
      ]
     },
     "execution_count": 2,
     "metadata": {},
     "output_type": "execute_result"
    }
   ],
   "source": [
    "df = pd.read_csv('https://archive.ics.uci.edu/ml/machine-learning-databases/iris/iris.data', header=None)\n",
    "df.columns = ['sepal length', 'sepal width', 'petal length', 'petal width', 'class']\n",
    "df.head()"
   ]
  },
  {
   "cell_type": "code",
   "execution_count": 3,
   "id": "e2f76e52",
   "metadata": {},
   "outputs": [],
   "source": [
    "# Recomendado\n",
    "# Códificando classes\n",
    "df['class'] = pd.factorize(df['class'])[0]"
   ]
  },
  {
   "cell_type": "code",
   "execution_count": 4,
   "id": "da274126",
   "metadata": {},
   "outputs": [
    {
     "data": {
      "text/plain": [
       "(150, 5)"
      ]
     },
     "execution_count": 4,
     "metadata": {},
     "output_type": "execute_result"
    }
   ],
   "source": [
    "df.shape"
   ]
  },
  {
   "cell_type": "code",
   "execution_count": 5,
   "id": "4a62fb3b",
   "metadata": {},
   "outputs": [
    {
     "data": {
      "text/html": [
       "<div>\n",
       "<style scoped>\n",
       "    .dataframe tbody tr th:only-of-type {\n",
       "        vertical-align: middle;\n",
       "    }\n",
       "\n",
       "    .dataframe tbody tr th {\n",
       "        vertical-align: top;\n",
       "    }\n",
       "\n",
       "    .dataframe thead th {\n",
       "        text-align: right;\n",
       "    }\n",
       "</style>\n",
       "<table border=\"1\" class=\"dataframe\">\n",
       "  <thead>\n",
       "    <tr style=\"text-align: right;\">\n",
       "      <th></th>\n",
       "      <th>sepal length</th>\n",
       "      <th>sepal width</th>\n",
       "      <th>petal length</th>\n",
       "      <th>petal width</th>\n",
       "      <th>class</th>\n",
       "    </tr>\n",
       "  </thead>\n",
       "  <tbody>\n",
       "    <tr>\n",
       "      <th>0</th>\n",
       "      <td>5.1</td>\n",
       "      <td>3.5</td>\n",
       "      <td>1.4</td>\n",
       "      <td>0.2</td>\n",
       "      <td>0</td>\n",
       "    </tr>\n",
       "    <tr>\n",
       "      <th>1</th>\n",
       "      <td>4.9</td>\n",
       "      <td>3.0</td>\n",
       "      <td>1.4</td>\n",
       "      <td>0.2</td>\n",
       "      <td>0</td>\n",
       "    </tr>\n",
       "    <tr>\n",
       "      <th>2</th>\n",
       "      <td>4.7</td>\n",
       "      <td>3.2</td>\n",
       "      <td>1.3</td>\n",
       "      <td>0.2</td>\n",
       "      <td>0</td>\n",
       "    </tr>\n",
       "    <tr>\n",
       "      <th>3</th>\n",
       "      <td>4.6</td>\n",
       "      <td>3.1</td>\n",
       "      <td>1.5</td>\n",
       "      <td>0.2</td>\n",
       "      <td>0</td>\n",
       "    </tr>\n",
       "    <tr>\n",
       "      <th>4</th>\n",
       "      <td>5.0</td>\n",
       "      <td>3.6</td>\n",
       "      <td>1.4</td>\n",
       "      <td>0.2</td>\n",
       "      <td>0</td>\n",
       "    </tr>\n",
       "  </tbody>\n",
       "</table>\n",
       "</div>"
      ],
      "text/plain": [
       "   sepal length  sepal width  petal length  petal width  class\n",
       "0           5.1          3.5           1.4          0.2      0\n",
       "1           4.9          3.0           1.4          0.2      0\n",
       "2           4.7          3.2           1.3          0.2      0\n",
       "3           4.6          3.1           1.5          0.2      0\n",
       "4           5.0          3.6           1.4          0.2      0"
      ]
     },
     "execution_count": 5,
     "metadata": {},
     "output_type": "execute_result"
    }
   ],
   "source": [
    "df.head()"
   ]
  },
  {
   "cell_type": "code",
   "execution_count": 6,
   "id": "baef0f6f",
   "metadata": {},
   "outputs": [],
   "source": [
    "def gerar_train_test(df_, **kwargs):\n",
    "    \"\"\"\n",
    "    A partir de um dataframe gera dois csvs de treino e teste, os labels do teste são ocultos\n",
    "    \n",
    "    Parameters\n",
    "    ----------\n",
    "    df: pd.DataFrame\n",
    "        Matriz de dados que serão trabalhados\n",
    "    \n",
    "    test_size: float\n",
    "        Razão dos dados totais que serão usados para calcular o score\n",
    "    \"\"\"\n",
    "    train_set, test_set = train_test_split(df_, **kwargs)\n",
    "    return train_set.reset_index(drop=True), test_set.reset_index(drop=True)"
   ]
  },
  {
   "cell_type": "code",
   "execution_count": 7,
   "id": "2380e3a9",
   "metadata": {},
   "outputs": [],
   "source": [
    "train_set, test_set = gerar_train_test(df)"
   ]
  },
  {
   "cell_type": "code",
   "execution_count": 8,
   "id": "3f374440",
   "metadata": {},
   "outputs": [],
   "source": [
    "train_set.to_csv('train_set.csv', index=False)"
   ]
  },
  {
   "cell_type": "code",
   "execution_count": 40,
   "id": "f856455c",
   "metadata": {},
   "outputs": [],
   "source": [
    "# Test set com target para o professor usar-lo para avaliação posterior\n",
    "train_set['class'].to_csv('test_set-professor.csv', index=False)"
   ]
  },
  {
   "cell_type": "code",
   "execution_count": 10,
   "id": "7511b95a",
   "metadata": {},
   "outputs": [],
   "source": [
    "# Salvando test_set sem o target para as submissões dos competidores\n",
    "train_set[['sepal length', 'sepal width', 'petal length', 'petal width']].to_csv('test_set.csv', index=False)"
   ]
  },
  {
   "cell_type": "markdown",
   "id": "fca934ee",
   "metadata": {},
   "source": [
    "### Competidor"
   ]
  },
  {
   "cell_type": "code",
   "execution_count": 11,
   "id": "e52b116d",
   "metadata": {},
   "outputs": [],
   "source": [
    "from sklearn.linear_model import LogisticRegression\n",
    "from sklearn.metrics import accuracy_score"
   ]
  },
  {
   "cell_type": "code",
   "execution_count": 12,
   "id": "85c15712",
   "metadata": {},
   "outputs": [
    {
     "data": {
      "text/html": [
       "<div>\n",
       "<style scoped>\n",
       "    .dataframe tbody tr th:only-of-type {\n",
       "        vertical-align: middle;\n",
       "    }\n",
       "\n",
       "    .dataframe tbody tr th {\n",
       "        vertical-align: top;\n",
       "    }\n",
       "\n",
       "    .dataframe thead th {\n",
       "        text-align: right;\n",
       "    }\n",
       "</style>\n",
       "<table border=\"1\" class=\"dataframe\">\n",
       "  <thead>\n",
       "    <tr style=\"text-align: right;\">\n",
       "      <th></th>\n",
       "      <th>sepal length</th>\n",
       "      <th>sepal width</th>\n",
       "      <th>petal length</th>\n",
       "      <th>petal width</th>\n",
       "      <th>class</th>\n",
       "    </tr>\n",
       "  </thead>\n",
       "  <tbody>\n",
       "    <tr>\n",
       "      <th>0</th>\n",
       "      <td>5.0</td>\n",
       "      <td>2.0</td>\n",
       "      <td>3.5</td>\n",
       "      <td>1.0</td>\n",
       "      <td>1</td>\n",
       "    </tr>\n",
       "    <tr>\n",
       "      <th>1</th>\n",
       "      <td>6.7</td>\n",
       "      <td>3.0</td>\n",
       "      <td>5.0</td>\n",
       "      <td>1.7</td>\n",
       "      <td>1</td>\n",
       "    </tr>\n",
       "    <tr>\n",
       "      <th>2</th>\n",
       "      <td>7.3</td>\n",
       "      <td>2.9</td>\n",
       "      <td>6.3</td>\n",
       "      <td>1.8</td>\n",
       "      <td>2</td>\n",
       "    </tr>\n",
       "    <tr>\n",
       "      <th>3</th>\n",
       "      <td>6.3</td>\n",
       "      <td>2.8</td>\n",
       "      <td>5.1</td>\n",
       "      <td>1.5</td>\n",
       "      <td>2</td>\n",
       "    </tr>\n",
       "    <tr>\n",
       "      <th>4</th>\n",
       "      <td>5.1</td>\n",
       "      <td>3.8</td>\n",
       "      <td>1.6</td>\n",
       "      <td>0.2</td>\n",
       "      <td>0</td>\n",
       "    </tr>\n",
       "  </tbody>\n",
       "</table>\n",
       "</div>"
      ],
      "text/plain": [
       "   sepal length  sepal width  petal length  petal width  class\n",
       "0           5.0          2.0           3.5          1.0      1\n",
       "1           6.7          3.0           5.0          1.7      1\n",
       "2           7.3          2.9           6.3          1.8      2\n",
       "3           6.3          2.8           5.1          1.5      2\n",
       "4           5.1          3.8           1.6          0.2      0"
      ]
     },
     "execution_count": 12,
     "metadata": {},
     "output_type": "execute_result"
    }
   ],
   "source": [
    "df_competidor = pd.read_csv('train_set.csv')\n",
    "df_competidor.head()"
   ]
  },
  {
   "cell_type": "code",
   "execution_count": 13,
   "id": "154b1321",
   "metadata": {},
   "outputs": [],
   "source": [
    "X_train, X_test, y_train, y_test = train_test_split(\n",
    "    df_competidor[['sepal length', 'sepal width', 'petal length', 'petal width']], df_competidor['class'])"
   ]
  },
  {
   "cell_type": "code",
   "execution_count": 14,
   "id": "22746036",
   "metadata": {},
   "outputs": [],
   "source": [
    "modelo = LogisticRegression().fit(X_train, y_train)"
   ]
  },
  {
   "cell_type": "code",
   "execution_count": 15,
   "id": "348e92d6",
   "metadata": {},
   "outputs": [],
   "source": [
    "y_pred = modelo.predict(X_test)"
   ]
  },
  {
   "cell_type": "code",
   "execution_count": 16,
   "id": "c0984714",
   "metadata": {},
   "outputs": [
    {
     "name": "stdout",
     "output_type": "stream",
     "text": [
      "Acurácia do modelo na validação do competidor: 1.000\n"
     ]
    }
   ],
   "source": [
    "print(f'Acurácia do modelo na validação do competidor: {accuracy_score(y_test, y_pred):.3f}')"
   ]
  },
  {
   "cell_type": "code",
   "execution_count": 17,
   "id": "9bd7d405",
   "metadata": {},
   "outputs": [
    {
     "data": {
      "text/html": [
       "<div>\n",
       "<style scoped>\n",
       "    .dataframe tbody tr th:only-of-type {\n",
       "        vertical-align: middle;\n",
       "    }\n",
       "\n",
       "    .dataframe tbody tr th {\n",
       "        vertical-align: top;\n",
       "    }\n",
       "\n",
       "    .dataframe thead th {\n",
       "        text-align: right;\n",
       "    }\n",
       "</style>\n",
       "<table border=\"1\" class=\"dataframe\">\n",
       "  <thead>\n",
       "    <tr style=\"text-align: right;\">\n",
       "      <th></th>\n",
       "      <th>sepal length</th>\n",
       "      <th>sepal width</th>\n",
       "      <th>petal length</th>\n",
       "      <th>petal width</th>\n",
       "    </tr>\n",
       "  </thead>\n",
       "  <tbody>\n",
       "    <tr>\n",
       "      <th>0</th>\n",
       "      <td>5.0</td>\n",
       "      <td>2.0</td>\n",
       "      <td>3.5</td>\n",
       "      <td>1.0</td>\n",
       "    </tr>\n",
       "    <tr>\n",
       "      <th>1</th>\n",
       "      <td>6.7</td>\n",
       "      <td>3.0</td>\n",
       "      <td>5.0</td>\n",
       "      <td>1.7</td>\n",
       "    </tr>\n",
       "    <tr>\n",
       "      <th>2</th>\n",
       "      <td>7.3</td>\n",
       "      <td>2.9</td>\n",
       "      <td>6.3</td>\n",
       "      <td>1.8</td>\n",
       "    </tr>\n",
       "    <tr>\n",
       "      <th>3</th>\n",
       "      <td>6.3</td>\n",
       "      <td>2.8</td>\n",
       "      <td>5.1</td>\n",
       "      <td>1.5</td>\n",
       "    </tr>\n",
       "    <tr>\n",
       "      <th>4</th>\n",
       "      <td>5.1</td>\n",
       "      <td>3.8</td>\n",
       "      <td>1.6</td>\n",
       "      <td>0.2</td>\n",
       "    </tr>\n",
       "  </tbody>\n",
       "</table>\n",
       "</div>"
      ],
      "text/plain": [
       "   sepal length  sepal width  petal length  petal width\n",
       "0           5.0          2.0           3.5          1.0\n",
       "1           6.7          3.0           5.0          1.7\n",
       "2           7.3          2.9           6.3          1.8\n",
       "3           6.3          2.8           5.1          1.5\n",
       "4           5.1          3.8           1.6          0.2"
      ]
     },
     "execution_count": 17,
     "metadata": {},
     "output_type": "execute_result"
    }
   ],
   "source": [
    "df_submissao = pd.read_csv('test_set.csv')\n",
    "df_submissao.head()"
   ]
  },
  {
   "cell_type": "code",
   "execution_count": 18,
   "id": "bc44320b",
   "metadata": {},
   "outputs": [
    {
     "data": {
      "text/html": [
       "<div>\n",
       "<style scoped>\n",
       "    .dataframe tbody tr th:only-of-type {\n",
       "        vertical-align: middle;\n",
       "    }\n",
       "\n",
       "    .dataframe tbody tr th {\n",
       "        vertical-align: top;\n",
       "    }\n",
       "\n",
       "    .dataframe thead th {\n",
       "        text-align: right;\n",
       "    }\n",
       "</style>\n",
       "<table border=\"1\" class=\"dataframe\">\n",
       "  <thead>\n",
       "    <tr style=\"text-align: right;\">\n",
       "      <th></th>\n",
       "      <th>0</th>\n",
       "    </tr>\n",
       "  </thead>\n",
       "  <tbody>\n",
       "    <tr>\n",
       "      <th>0</th>\n",
       "      <td>1</td>\n",
       "    </tr>\n",
       "    <tr>\n",
       "      <th>1</th>\n",
       "      <td>2</td>\n",
       "    </tr>\n",
       "    <tr>\n",
       "      <th>2</th>\n",
       "      <td>2</td>\n",
       "    </tr>\n",
       "    <tr>\n",
       "      <th>3</th>\n",
       "      <td>2</td>\n",
       "    </tr>\n",
       "    <tr>\n",
       "      <th>4</th>\n",
       "      <td>0</td>\n",
       "    </tr>\n",
       "    <tr>\n",
       "      <th>...</th>\n",
       "      <td>...</td>\n",
       "    </tr>\n",
       "    <tr>\n",
       "      <th>107</th>\n",
       "      <td>1</td>\n",
       "    </tr>\n",
       "    <tr>\n",
       "      <th>108</th>\n",
       "      <td>1</td>\n",
       "    </tr>\n",
       "    <tr>\n",
       "      <th>109</th>\n",
       "      <td>0</td>\n",
       "    </tr>\n",
       "    <tr>\n",
       "      <th>110</th>\n",
       "      <td>0</td>\n",
       "    </tr>\n",
       "    <tr>\n",
       "      <th>111</th>\n",
       "      <td>2</td>\n",
       "    </tr>\n",
       "  </tbody>\n",
       "</table>\n",
       "<p>112 rows × 1 columns</p>\n",
       "</div>"
      ],
      "text/plain": [
       "     0\n",
       "0    1\n",
       "1    2\n",
       "2    2\n",
       "3    2\n",
       "4    0\n",
       "..  ..\n",
       "107  1\n",
       "108  1\n",
       "109  0\n",
       "110  0\n",
       "111  2\n",
       "\n",
       "[112 rows x 1 columns]"
      ]
     },
     "execution_count": 18,
     "metadata": {},
     "output_type": "execute_result"
    }
   ],
   "source": [
    "y_submissao = pd.DataFrame(modelo.predict(df_submissao))\n",
    "y_submissao"
   ]
  },
  {
   "cell_type": "code",
   "execution_count": null,
   "id": "b4b69c13",
   "metadata": {},
   "outputs": [],
   "source": [
    "# Submissao com duas colunas ao invés de 1\n",
    "y_submissao.to_csv('submissoes/submissao_lucaslopes_v0.csv')"
   ]
  },
  {
   "cell_type": "code",
   "execution_count": 39,
   "id": "7d71b456",
   "metadata": {},
   "outputs": [],
   "source": [
    "# Submissao correta\n",
    "y_submissao.to_csv('submissoes/submissao_lucaslopes_v1.csv', index=False)"
   ]
  },
  {
   "cell_type": "code",
   "execution_count": 37,
   "id": "484d019b",
   "metadata": {},
   "outputs": [],
   "source": [
    "def verificar_submissao(filename):\n",
    "    \"\"\"\n",
    "    Verifica se o arquivo que os alunos geraram tem a quantidade de colunas certa para a submissao, tipo de dados\n",
    "    \"\"\"\n",
    "    submissao = pd.read_csv(filename)\n",
    "    \n",
    "    n_cols = len(submissao.columns)\n",
    "    \n",
    "    if n_cols != 1:\n",
    "        raise ValueError(f'Sua submissão deveria ter apenas uma coluna, mas tem {n_cols} colunas')"
   ]
  },
  {
   "cell_type": "markdown",
   "id": "148ef8ca",
   "metadata": {},
   "source": [
    "Escolhendo métrica para avaliação:\n",
    "\n",
    "Como sugestão, "
   ]
  },
  {
   "cell_type": "code",
   "execution_count": null,
   "id": "199fe006",
   "metadata": {},
   "outputs": [],
   "source": [
    "from sklearn.metrics import accuracy_score"
   ]
  },
  {
   "cell_type": "code",
   "execution_count": 1,
   "id": "12c979ca",
   "metadata": {},
   "outputs": [],
   "source": [
    "import glob\n",
    "import os\n",
    "def avaliar_submissoes(folder_dir, test_set_path, eval_metric=None):\n",
    "    \"\"\"\n",
    "    A partir de uma pasta de csvs gera um dataframe com o scoreboard dos modelos e outro com as submissões inválidas e seus respectivos erros.\n",
    "    \n",
    "    Parameters\n",
    "    ----------\n",
    "    folder_dir: str\n",
    "        caminho da pasta de csvs com as submissões\n",
    "    test_set_path: str\n",
    "        caminho do csv do dataset de teste - só com a coluna target\n",
    "    eval_metric: function(y_true, y_pred) -> int\n",
    "        função para avaliar a performance das submissões\n",
    "        dica: importe uma função da biblioteca sklearn.metrics\n",
    "        \n",
    "    Returns\n",
    "    -------\n",
    "        tuple: df_resultados, df_sub_invalidas\n",
    "            df_resultados: pd.DataFrame, com colunas 'submissao' para o\n",
    "            nome do arquivo da submissão e 'score' para o score da\n",
    "            respectiva submissão.\n",
    "            df_sub_invalidas: pd.DataFrame, com colunas 'submissao' para o\n",
    "            nome do arquivo da submissão e 'erro' para a exceção da\n",
    "            respectiva submissão.\n",
    "    \"\"\"\n",
    "    # Encontra todos os arquivos das submissões\n",
    "    lista_submissoes = glob.glob(folder_dir)\n",
    "    \n",
    "    # Separa os dados de teste\n",
    "    test_set_ = pd.read_csv(test_set_path).values\n",
    "    \n",
    "    dict_resultados = dict()\n",
    "    \n",
    "    submissoes_invalidas = dict()\n",
    "    for f in lista_submissoes:\n",
    "        nome_arquivo = os.path.basename(f)\n",
    "        \n",
    "        # Se ocorrer qualquer erro durante o teste, a submissão é considerada inválida\n",
    "        try:\n",
    "            # Lê o arquivo de submissão com o pandas\n",
    "            sub = pd.read_csv(f, header=0).values\n",
    "            \n",
    "            # Avalia a submissão de acordo com a métrica escolhida\n",
    "            score = eval_metric(test_set_, sub)\n",
    "            \n",
    "            # Armazena os resultados\n",
    "            dict_resultados['submissao'] = dict_resultados.get('submissao', []) + [nome_arquivo]\n",
    "            dict_resultados['score'] = dict_resultados.get('score', []) + [score]\n",
    "        \n",
    "        # Armazena as submissões com erro\n",
    "        except BaseException as e:\n",
    "            submissoes_invalidas['submissao'] = submissoes_invalidas.get('submissao', []) + [nome_arquivo]\n",
    "            submissoes_invalidas['erro'] = submissoes_invalidas.get('erro', []) + [e]\n",
    "    \n",
    "    df_resultados = pd.DataFrame(dict_resultados).sort_values(by='score', ascending=False)\n",
    "    df_sub_invalidas = pd.DataFrame(submissoes_invalidas)\n",
    "    \n",
    "    return df_resultados, df_sub_invalidas"
   ]
  },
  {
   "cell_type": "code",
   "execution_count": 99,
   "id": "f295f71b",
   "metadata": {},
   "outputs": [],
   "source": [
    "ranking, sub_erradas = avaliar_submissoes('submissoes/*.csv', 'test_set-professor.csv', eval_metric=accuracy_score)"
   ]
  },
  {
   "cell_type": "code",
   "execution_count": 100,
   "id": "3f63cf48",
   "metadata": {},
   "outputs": [
    {
     "data": {
      "text/html": [
       "<div>\n",
       "<style scoped>\n",
       "    .dataframe tbody tr th:only-of-type {\n",
       "        vertical-align: middle;\n",
       "    }\n",
       "\n",
       "    .dataframe tbody tr th {\n",
       "        vertical-align: top;\n",
       "    }\n",
       "\n",
       "    .dataframe thead th {\n",
       "        text-align: right;\n",
       "    }\n",
       "</style>\n",
       "<table border=\"1\" class=\"dataframe\">\n",
       "  <thead>\n",
       "    <tr style=\"text-align: right;\">\n",
       "      <th></th>\n",
       "      <th>submissao</th>\n",
       "      <th>score</th>\n",
       "    </tr>\n",
       "  </thead>\n",
       "  <tbody>\n",
       "    <tr>\n",
       "      <th>0</th>\n",
       "      <td>submissao_lucaslopes_v1.csv</td>\n",
       "      <td>0.964286</td>\n",
       "    </tr>\n",
       "  </tbody>\n",
       "</table>\n",
       "</div>"
      ],
      "text/plain": [
       "                     submissao     score\n",
       "0  submissao_lucaslopes_v1.csv  0.964286"
      ]
     },
     "execution_count": 100,
     "metadata": {},
     "output_type": "execute_result"
    }
   ],
   "source": [
    "ranking"
   ]
  },
  {
   "cell_type": "code",
   "execution_count": 97,
   "id": "638fabdc",
   "metadata": {},
   "outputs": [
    {
     "data": {
      "text/html": [
       "<div>\n",
       "<style scoped>\n",
       "    .dataframe tbody tr th:only-of-type {\n",
       "        vertical-align: middle;\n",
       "    }\n",
       "\n",
       "    .dataframe tbody tr th {\n",
       "        vertical-align: top;\n",
       "    }\n",
       "\n",
       "    .dataframe thead th {\n",
       "        text-align: right;\n",
       "    }\n",
       "</style>\n",
       "<table border=\"1\" class=\"dataframe\">\n",
       "  <thead>\n",
       "    <tr style=\"text-align: right;\">\n",
       "      <th></th>\n",
       "      <th>submissao</th>\n",
       "      <th>erro</th>\n",
       "    </tr>\n",
       "  </thead>\n",
       "  <tbody>\n",
       "    <tr>\n",
       "      <th>0</th>\n",
       "      <td>submissao_lucaslopes_v0.csv</td>\n",
       "      <td>Classification metrics can't handle a mix of m...</td>\n",
       "    </tr>\n",
       "  </tbody>\n",
       "</table>\n",
       "</div>"
      ],
      "text/plain": [
       "                     submissao  \\\n",
       "0  submissao_lucaslopes_v0.csv   \n",
       "\n",
       "                                                erro  \n",
       "0  Classification metrics can't handle a mix of m...  "
      ]
     },
     "execution_count": 97,
     "metadata": {},
     "output_type": "execute_result"
    }
   ],
   "source": [
    "sub_erradas"
   ]
  },
  {
   "cell_type": "markdown",
   "id": "1683ce4a",
   "metadata": {},
   "source": [
    "## Alunos"
   ]
  },
  {
   "cell_type": "code",
   "execution_count": 38,
   "id": "a6ec8202",
   "metadata": {},
   "outputs": [
    {
     "ename": "ValueError",
     "evalue": "Sua submissão deveria ter apenas uma coluna, mas tem 2 colunas",
     "output_type": "error",
     "traceback": [
      "\u001b[1;31m---------------------------------------------------------------------------\u001b[0m",
      "\u001b[1;31mValueError\u001b[0m                                Traceback (most recent call last)",
      "\u001b[1;32m~\\AppData\\Local\\Temp/ipykernel_28804/1145578426.py\u001b[0m in \u001b[0;36m<module>\u001b[1;34m\u001b[0m\n\u001b[1;32m----> 1\u001b[1;33m \u001b[0mverificar_submissao\u001b[0m\u001b[1;33m(\u001b[0m\u001b[1;34m'submissao_lucaslopes_v1.csv'\u001b[0m\u001b[1;33m)\u001b[0m\u001b[1;33m\u001b[0m\u001b[1;33m\u001b[0m\u001b[0m\n\u001b[0m",
      "\u001b[1;32m~\\AppData\\Local\\Temp/ipykernel_28804/1446343067.py\u001b[0m in \u001b[0;36mverificar_submissao\u001b[1;34m(filename)\u001b[0m\n\u001b[0;32m      8\u001b[0m \u001b[1;33m\u001b[0m\u001b[0m\n\u001b[0;32m      9\u001b[0m     \u001b[1;32mif\u001b[0m \u001b[0mn_cols\u001b[0m \u001b[1;33m!=\u001b[0m \u001b[1;36m1\u001b[0m\u001b[1;33m:\u001b[0m\u001b[1;33m\u001b[0m\u001b[1;33m\u001b[0m\u001b[0m\n\u001b[1;32m---> 10\u001b[1;33m         \u001b[1;32mraise\u001b[0m \u001b[0mValueError\u001b[0m\u001b[1;33m(\u001b[0m\u001b[1;34mf'Sua submissão deveria ter apenas uma coluna, mas tem {n_cols} colunas'\u001b[0m\u001b[1;33m)\u001b[0m\u001b[1;33m\u001b[0m\u001b[1;33m\u001b[0m\u001b[0m\n\u001b[0m",
      "\u001b[1;31mValueError\u001b[0m: Sua submissão deveria ter apenas uma coluna, mas tem 2 colunas"
     ]
    }
   ],
   "source": [
    "verificar_submissao('submissao_lucaslopes_v1.csv')"
   ]
  }
 ],
 "metadata": {
  "kernelspec": {
   "display_name": "Python 3 (ipykernel)",
   "language": "python",
   "name": "python3"
  },
  "language_info": {
   "codemirror_mode": {
    "name": "ipython",
    "version": 3
   },
   "file_extension": ".py",
   "mimetype": "text/x-python",
   "name": "python",
   "nbconvert_exporter": "python",
   "pygments_lexer": "ipython3",
   "version": "3.9.7"
  }
 },
 "nbformat": 4,
 "nbformat_minor": 5
}
